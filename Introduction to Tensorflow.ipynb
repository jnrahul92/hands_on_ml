{
 "cells": [
  {
   "cell_type": "code",
   "execution_count": 1,
   "id": "d1108869",
   "metadata": {},
   "outputs": [],
   "source": [
    "import tensorflow as tf"
   ]
  },
  {
   "cell_type": "markdown",
   "id": "68d2a23f",
   "metadata": {},
   "source": [
    "## Introduction"
   ]
  },
  {
   "cell_type": "code",
   "execution_count": 2,
   "id": "44f1dbb7",
   "metadata": {},
   "outputs": [
    {
     "name": "stdout",
     "output_type": "stream",
     "text": [
      "WARNING:tensorflow:From D:\\anaconda3\\envs\\tf2_imp_col\\lib\\site-packages\\tensorflow_core\\python\\compat\\v2_compat.py:88: disable_resource_variables (from tensorflow.python.ops.variable_scope) is deprecated and will be removed in a future version.\n",
      "Instructions for updating:\n",
      "non-resource variables are not supported in the long term\n"
     ]
    }
   ],
   "source": [
    "tf.compat.v1.disable_v2_behavior()"
   ]
  },
  {
   "cell_type": "code",
   "execution_count": 3,
   "id": "ca335434",
   "metadata": {},
   "outputs": [],
   "source": [
    "x = tf.compat.v1.Variable(3, name=\"x\")\n",
    "y = tf.compat.v1.Variable(4, name=\"y\")"
   ]
  },
  {
   "cell_type": "code",
   "execution_count": 4,
   "id": "0f2c9594",
   "metadata": {},
   "outputs": [],
   "source": [
    "f = x*x*y + y + 2"
   ]
  },
  {
   "cell_type": "code",
   "execution_count": 5,
   "id": "fa5b2def",
   "metadata": {},
   "outputs": [],
   "source": [
    "sess = tf.compat.v1.Session()"
   ]
  },
  {
   "cell_type": "code",
   "execution_count": 6,
   "id": "f14d0201",
   "metadata": {},
   "outputs": [],
   "source": [
    "sess.run(x.initializer)"
   ]
  },
  {
   "cell_type": "code",
   "execution_count": 7,
   "id": "b8a079da",
   "metadata": {},
   "outputs": [],
   "source": [
    "sess.run(y.initializer)"
   ]
  },
  {
   "cell_type": "code",
   "execution_count": 8,
   "id": "1be6fc7b",
   "metadata": {},
   "outputs": [],
   "source": [
    "result = sess.run(f)"
   ]
  },
  {
   "cell_type": "code",
   "execution_count": 9,
   "id": "b2f5de4d",
   "metadata": {},
   "outputs": [
    {
     "name": "stdout",
     "output_type": "stream",
     "text": [
      "42\n"
     ]
    }
   ],
   "source": [
    "print(result)"
   ]
  },
  {
   "cell_type": "code",
   "execution_count": 10,
   "id": "b023f8d3",
   "metadata": {},
   "outputs": [],
   "source": [
    "sess.close()"
   ]
  },
  {
   "cell_type": "code",
   "execution_count": 11,
   "id": "02b93fca",
   "metadata": {},
   "outputs": [],
   "source": [
    "with tf.compat.v1.Session() as sess:\n",
    "    x.initializer.run()\n",
    "    y.initializer.run()\n",
    "    result = f.eval()"
   ]
  },
  {
   "cell_type": "code",
   "execution_count": 12,
   "id": "a855c6cc",
   "metadata": {},
   "outputs": [],
   "source": [
    "init = tf.compat.v1.global_variables_initializer()"
   ]
  },
  {
   "cell_type": "code",
   "execution_count": 13,
   "id": "88e025f9",
   "metadata": {},
   "outputs": [],
   "source": [
    "with tf.compat.v1.Session() as sess:\n",
    "    init.run()\n",
    "    result = f.eval()"
   ]
  },
  {
   "cell_type": "code",
   "execution_count": 14,
   "id": "058a241d",
   "metadata": {},
   "outputs": [],
   "source": [
    "sess = tf.compat.v1.InteractiveSession()"
   ]
  },
  {
   "cell_type": "code",
   "execution_count": 15,
   "id": "72f7316e",
   "metadata": {},
   "outputs": [],
   "source": [
    "init.run()"
   ]
  },
  {
   "cell_type": "code",
   "execution_count": 16,
   "id": "2094fdd4",
   "metadata": {},
   "outputs": [],
   "source": [
    "result = f.eval()"
   ]
  },
  {
   "cell_type": "code",
   "execution_count": 17,
   "id": "ae598e82",
   "metadata": {},
   "outputs": [
    {
     "name": "stdout",
     "output_type": "stream",
     "text": [
      "42\n"
     ]
    }
   ],
   "source": [
    "print(result)"
   ]
  },
  {
   "cell_type": "code",
   "execution_count": 18,
   "id": "7e509884",
   "metadata": {},
   "outputs": [],
   "source": [
    "sess.close()"
   ]
  },
  {
   "cell_type": "markdown",
   "id": "50c9a68e",
   "metadata": {},
   "source": [
    "## Managing Graphs"
   ]
  },
  {
   "cell_type": "code",
   "execution_count": 19,
   "id": "d3af6e94",
   "metadata": {},
   "outputs": [],
   "source": [
    "x1 = tf.compat.v1.Variable(1)"
   ]
  },
  {
   "cell_type": "code",
   "execution_count": 20,
   "id": "aac2680a",
   "metadata": {},
   "outputs": [
    {
     "data": {
      "text/plain": [
       "True"
      ]
     },
     "execution_count": 20,
     "metadata": {},
     "output_type": "execute_result"
    }
   ],
   "source": [
    "x1.graph is tf.compat.v1.get_default_graph()"
   ]
  },
  {
   "cell_type": "code",
   "execution_count": 21,
   "id": "13b94bea",
   "metadata": {},
   "outputs": [],
   "source": [
    "graph = tf.compat.v1.Graph()"
   ]
  },
  {
   "cell_type": "code",
   "execution_count": 22,
   "id": "12d6f424",
   "metadata": {},
   "outputs": [],
   "source": [
    "with graph.as_default():\n",
    "    x2 = tf.compat.v1.Variable(2)"
   ]
  },
  {
   "cell_type": "code",
   "execution_count": 23,
   "id": "61e458a1",
   "metadata": {},
   "outputs": [
    {
     "data": {
      "text/plain": [
       "False"
      ]
     },
     "execution_count": 23,
     "metadata": {},
     "output_type": "execute_result"
    }
   ],
   "source": [
    "x2.graph is tf.compat.v1.get_default_graph()"
   ]
  },
  {
   "cell_type": "markdown",
   "id": "e393660b",
   "metadata": {},
   "source": [
    "## Lifecycle of a node value"
   ]
  },
  {
   "cell_type": "code",
   "execution_count": 25,
   "id": "c6a8e866",
   "metadata": {},
   "outputs": [],
   "source": [
    "w = tf.compat.v1.constant(3)"
   ]
  },
  {
   "cell_type": "code",
   "execution_count": 26,
   "id": "43b865a2",
   "metadata": {},
   "outputs": [],
   "source": [
    "x = w + 2\n",
    "y = x + 5\n",
    "z = x * 3"
   ]
  },
  {
   "cell_type": "code",
   "execution_count": 31,
   "id": "f54c459d",
   "metadata": {},
   "outputs": [
    {
     "name": "stdout",
     "output_type": "stream",
     "text": [
      "10\n",
      "15\n"
     ]
    }
   ],
   "source": [
    "with tf.compat.v1.Session() as sess:\n",
    "    print(y.eval())\n",
    "    print(z.eval())"
   ]
  },
  {
   "cell_type": "code",
   "execution_count": 32,
   "id": "3d27e895",
   "metadata": {},
   "outputs": [
    {
     "name": "stdout",
     "output_type": "stream",
     "text": [
      "10\n",
      "15\n"
     ]
    }
   ],
   "source": [
    "with tf.compat.v1.Session() as sess:\n",
    "    y_val, z_val = sess.run([y,z])\n",
    "    print(y_val)\n",
    "    print(z_val)"
   ]
  },
  {
   "cell_type": "markdown",
   "id": "ab89afa4",
   "metadata": {},
   "source": [
    "## Linear Regression"
   ]
  },
  {
   "cell_type": "code",
   "execution_count": 33,
   "id": "3a773c41",
   "metadata": {},
   "outputs": [],
   "source": [
    "import numpy as np"
   ]
  },
  {
   "cell_type": "code",
   "execution_count": 34,
   "id": "034f1dca",
   "metadata": {},
   "outputs": [],
   "source": [
    "from sklearn.datasets import fetch_california_housing"
   ]
  },
  {
   "cell_type": "code",
   "execution_count": 35,
   "id": "f2ae6dc0",
   "metadata": {},
   "outputs": [],
   "source": [
    "housing = fetch_california_housing()"
   ]
  },
  {
   "cell_type": "code",
   "execution_count": 36,
   "id": "2fe72991",
   "metadata": {},
   "outputs": [
    {
     "name": "stdout",
     "output_type": "stream",
     "text": [
      "ERROR! Session/line number was not unique in database. History logging moved to new session 13\n"
     ]
    }
   ],
   "source": [
    "m,n = housing.data.shape"
   ]
  },
  {
   "cell_type": "code",
   "execution_count": 38,
   "id": "4c220059",
   "metadata": {},
   "outputs": [],
   "source": [
    "housing_data_plus_bias = np.c_[np.ones((m,1)),housing.data]"
   ]
  },
  {
   "cell_type": "code",
   "execution_count": 39,
   "id": "1a3d2d8a",
   "metadata": {},
   "outputs": [],
   "source": [
    "X = tf.compat.v1.constant(housing_data_plus_bias, dtype=tf.float32, name=\"X\")\n",
    "y = tf.compat.v1.constant(housing.target.reshape(-1,1), dtype=tf.float32, name=\"Y\")"
   ]
  },
  {
   "cell_type": "code",
   "execution_count": 40,
   "id": "e1e4aa7d",
   "metadata": {},
   "outputs": [],
   "source": [
    "XT = tf.transpose(X)"
   ]
  },
  {
   "cell_type": "code",
   "execution_count": 41,
   "id": "df073235",
   "metadata": {},
   "outputs": [],
   "source": [
    "theta = tf.matmul(tf.matmul(tf.compat.v1.matrix_inverse(tf.matmul(XT,X)),XT),y)"
   ]
  },
  {
   "cell_type": "code",
   "execution_count": 42,
   "id": "6e2681ba",
   "metadata": {},
   "outputs": [],
   "source": [
    "with tf.compat.v1.Session() as sess:\n",
    "    theta_value = theta.eval()"
   ]
  },
  {
   "cell_type": "markdown",
   "id": "a03f82be",
   "metadata": {},
   "source": [
    "## Manually computing Gradients"
   ]
  },
  {
   "cell_type": "code",
   "execution_count": 44,
   "id": "69eaa8dc",
   "metadata": {},
   "outputs": [],
   "source": [
    "n_epochs = 1000\n",
    "learning_rate = 0.1"
   ]
  },
  {
   "cell_type": "code",
   "execution_count": 45,
   "id": "0af92e25",
   "metadata": {},
   "outputs": [],
   "source": [
    "from sklearn.preprocessing import StandardScaler"
   ]
  },
  {
   "cell_type": "code",
   "execution_count": 46,
   "id": "30e0742c",
   "metadata": {},
   "outputs": [],
   "source": [
    "sc = StandardScaler()"
   ]
  },
  {
   "cell_type": "code",
   "execution_count": 47,
   "id": "09e740ee",
   "metadata": {},
   "outputs": [],
   "source": [
    "scaled_housing_data_plus_bias = sc.fit_transform(housing_data_plus_bias)"
   ]
  },
  {
   "cell_type": "code",
   "execution_count": 48,
   "id": "d6118e36",
   "metadata": {},
   "outputs": [],
   "source": [
    "X = tf.compat.v1.constant(scaled_housing_data_plus_bias, dtype=tf.float32, name=\"X\")\n",
    "y = tf.compat.v1.constant(housing.target.reshape(-1,1), dtype=tf.float32, name=\"Y\")"
   ]
  },
  {
   "cell_type": "code",
   "execution_count": 49,
   "id": "e8547e67",
   "metadata": {},
   "outputs": [],
   "source": [
    "theta = tf.compat.v1.Variable(tf.compat.v1.random_uniform([n+1,1],-1.0,1.0),name=\"theta\")"
   ]
  },
  {
   "cell_type": "code",
   "execution_count": 50,
   "id": "7770c188",
   "metadata": {},
   "outputs": [],
   "source": [
    "y_pred = tf.matmul(X,theta, name=\"predictions\")"
   ]
  },
  {
   "cell_type": "code",
   "execution_count": 51,
   "id": "7ce4e02c",
   "metadata": {},
   "outputs": [],
   "source": [
    "error = y_pred - y"
   ]
  },
  {
   "cell_type": "code",
   "execution_count": 52,
   "id": "69f3c161",
   "metadata": {},
   "outputs": [],
   "source": [
    "mse = tf.reduce_mean(tf.square(error), name=\"mse\")"
   ]
  },
  {
   "cell_type": "code",
   "execution_count": 53,
   "id": "aa849214",
   "metadata": {},
   "outputs": [],
   "source": [
    "gradients = 2/m * tf.matmul(tf.transpose(X),error)"
   ]
  },
  {
   "cell_type": "code",
   "execution_count": 54,
   "id": "4ff8d8b1",
   "metadata": {},
   "outputs": [],
   "source": [
    "training_op = tf.compat.v1.assign(theta, theta - learning_rate*gradients)"
   ]
  },
  {
   "cell_type": "code",
   "execution_count": 55,
   "id": "75163ecb",
   "metadata": {},
   "outputs": [],
   "source": [
    "init = tf.compat.v1.global_variables_initializer()"
   ]
  },
  {
   "cell_type": "code",
   "execution_count": 57,
   "id": "39619adf",
   "metadata": {},
   "outputs": [
    {
     "name": "stdout",
     "output_type": "stream",
     "text": [
      "ERROR! Session/line number was not unique in database. History logging moved to new session 17\n",
      "Epoch  0 MSE =  6.3558774\n",
      "Epoch  100 MSE =  4.8091307\n",
      "Epoch  200 MSE =  4.803606\n",
      "Epoch  300 MSE =  4.803289\n",
      "Epoch  400 MSE =  4.803259\n",
      "Epoch  500 MSE =  4.8032546\n",
      "Epoch  600 MSE =  4.8032537\n",
      "Epoch  700 MSE =  4.8032537\n",
      "Epoch  800 MSE =  4.8032537\n",
      "Epoch  900 MSE =  4.8032546\n"
     ]
    }
   ],
   "source": [
    "with tf.compat.v1.Session() as sess:\n",
    "    sess.run(init)\n",
    "    for epoch in range(n_epochs):\n",
    "        if epoch % 100 == 0:\n",
    "            print(\"Epoch \",epoch,\"MSE = \",mse.eval())\n",
    "        sess.run(training_op)\n",
    "    best_theta = theta.eval()"
   ]
  },
  {
   "cell_type": "markdown",
   "id": "8ee4a861",
   "metadata": {},
   "source": [
    "## Using Autodiff"
   ]
  },
  {
   "cell_type": "code",
   "execution_count": 59,
   "id": "10053d71",
   "metadata": {},
   "outputs": [],
   "source": [
    "def my_func(a,b):\n",
    "    z = 0\n",
    "    for i in range(100):\n",
    "        z = a*np.cos(z+i)+z*np.sin(b-1)\n",
    "    return z"
   ]
  },
  {
   "cell_type": "code",
   "execution_count": 60,
   "id": "22d08cf2",
   "metadata": {},
   "outputs": [],
   "source": [
    "gradients = tf.gradients(mse,[theta])[0]"
   ]
  },
  {
   "cell_type": "markdown",
   "id": "b52b52d1",
   "metadata": {},
   "source": [
    "## Using Optimizer"
   ]
  },
  {
   "cell_type": "code",
   "execution_count": 63,
   "id": "cda569b5",
   "metadata": {},
   "outputs": [],
   "source": [
    "optimizer = tf.compat.v1.train.GradientDescentOptimizer(learning_rate=learning_rate)"
   ]
  },
  {
   "cell_type": "code",
   "execution_count": 64,
   "id": "cd22abc4",
   "metadata": {},
   "outputs": [],
   "source": [
    "training_op = optimizer.minimize(mse)"
   ]
  },
  {
   "cell_type": "code",
   "execution_count": 65,
   "id": "6535fd70",
   "metadata": {},
   "outputs": [],
   "source": [
    "optimizer = tf.compat.v1.train.MomentumOptimizer(learning_rate=learning_rate, momentum=0.9)"
   ]
  },
  {
   "cell_type": "markdown",
   "id": "42198980",
   "metadata": {},
   "source": [
    "## Feeding data to training algorithm"
   ]
  },
  {
   "cell_type": "code",
   "execution_count": 66,
   "id": "4fb640fa",
   "metadata": {},
   "outputs": [],
   "source": [
    "A = tf.compat.v1.placeholder(tf.float32, shape=(None,3))\n",
    "B = A + 5"
   ]
  },
  {
   "cell_type": "code",
   "execution_count": 67,
   "id": "807cad2c",
   "metadata": {},
   "outputs": [],
   "source": [
    "with tf.compat.v1.Session() as sess:\n",
    "    B_val_1 = B.eval(feed_dict={A : [[1,2,3]]})\n",
    "    B_val_2 = B.eval(feed_dict={A : [[4,5,6],[7,8,9]]})"
   ]
  },
  {
   "cell_type": "code",
   "execution_count": 68,
   "id": "c88b4177",
   "metadata": {},
   "outputs": [
    {
     "name": "stdout",
     "output_type": "stream",
     "text": [
      "[[6. 7. 8.]]\n"
     ]
    }
   ],
   "source": [
    "print(B_val_1)"
   ]
  },
  {
   "cell_type": "code",
   "execution_count": 69,
   "id": "95f385e8",
   "metadata": {},
   "outputs": [
    {
     "name": "stdout",
     "output_type": "stream",
     "text": [
      "[[ 9. 10. 11.]\n",
      " [12. 13. 14.]]\n"
     ]
    }
   ],
   "source": [
    "print(B_val_2)"
   ]
  },
  {
   "cell_type": "code",
   "execution_count": 70,
   "id": "7fd53c73",
   "metadata": {},
   "outputs": [],
   "source": [
    "X = tf.compat.v1.placeholder(tf.float32, shape=(None, n+1), name=\"X\")\n",
    "y = tf.compat.v1.placeholder(tf.float32, shape=(None, 1), name=\"y\")"
   ]
  },
  {
   "cell_type": "code",
   "execution_count": 71,
   "id": "e5d5e16a",
   "metadata": {},
   "outputs": [],
   "source": [
    "batch_size = 100\n",
    "n_batches = int(np.ceil(m / batch_size))"
   ]
  },
  {
   "cell_type": "code",
   "execution_count": 74,
   "id": "5b35c503",
   "metadata": {},
   "outputs": [],
   "source": [
    "def fetch_batch(epoch,batch_index,batch_size):\n",
    "    np.random.seed(epoch * n_batches + batch_index)  # not shown in the book\n",
    "    indices = np.random.randint(m, size=batch_size)  # not shown\n",
    "    X_batch = scaled_housing_data_plus_bias[indices] # not shown\n",
    "    y_batch = housing.target.reshape(-1, 1)[indices] # not shown\n",
    "    return X_batch, y_batch"
   ]
  },
  {
   "cell_type": "code",
   "execution_count": 75,
   "id": "de7e4f69",
   "metadata": {},
   "outputs": [],
   "source": [
    "with tf.compat.v1.Session() as sess:\n",
    "    sess.run(init)\n",
    "    for epoch in range(n_epochs):\n",
    "        for batch_index in range(n_batches):\n",
    "            X_batch, y_batch = fetch_batch(epoch,batch_index,batch_size)\n",
    "            sess.run(training_op, feed_dict={X:X_batch, y:y_batch})\n",
    "    best_theta = theta.eval()"
   ]
  },
  {
   "cell_type": "code",
   "execution_count": 78,
   "id": "802ee5a8",
   "metadata": {},
   "outputs": [
    {
     "name": "stdout",
     "output_type": "stream",
     "text": [
      "ERROR! Session/line number was not unique in database. History logging moved to new session 19\n"
     ]
    }
   ],
   "source": [
    "def reset_graph(seed=42):\n",
    "    tf.compat.v1.reset_default_graph()\n",
    "    tf.compat.v1.set_random_seed(seed)\n",
    "    np.random.seed(seed)"
   ]
  },
  {
   "cell_type": "code",
   "execution_count": 79,
   "id": "de23f799",
   "metadata": {},
   "outputs": [],
   "source": [
    "reset_graph()"
   ]
  },
  {
   "cell_type": "code",
   "execution_count": 81,
   "id": "bc9d58c3",
   "metadata": {},
   "outputs": [
    {
     "name": "stdout",
     "output_type": "stream",
     "text": [
      "Epoch 0 MSE = 7.0423403\n",
      "Epoch 100 MSE = 4.9470916\n",
      "Epoch 200 MSE = 4.8571677\n",
      "Epoch 300 MSE = 4.8389177\n",
      "Epoch 400 MSE = 4.8287582\n",
      "Epoch 500 MSE = 4.8216386\n",
      "Epoch 600 MSE = 4.8165174\n",
      "Epoch 700 MSE = 4.812824\n",
      "Epoch 800 MSE = 4.810159\n",
      "Epoch 900 MSE = 4.8082366\n"
     ]
    }
   ],
   "source": [
    "n_epochs = 1000\n",
    "learning_rate = 0.01\n",
    "\n",
    "X = tf.compat.v1.constant(scaled_housing_data_plus_bias, dtype=tf.float32, name=\"X\")\n",
    "y = tf.compat.v1.constant(housing.target.reshape(-1,1), dtype=tf.float32, name=\"Y\")\n",
    "theta = tf.compat.v1.Variable(tf.compat.v1.random_uniform([n+1,1],-1.0,1.0),name=\"theta\")\n",
    "y_pred = tf.matmul(X,theta, name=\"predictions\")\n",
    "error = y_pred - y\n",
    "mse = tf.reduce_mean(tf.square(error), name=\"mse\")\n",
    "optimizer = tf.compat.v1.train.GradientDescentOptimizer(learning_rate=learning_rate)\n",
    "training_op = optimizer.minimize(mse)\n",
    "\n",
    "init = tf.compat.v1.global_variables_initializer()\n",
    "saver = tf.compat.v1.train.Saver()\n",
    "\n",
    "with tf.compat.v1.Session() as sess:\n",
    "    sess.run(init)\n",
    "    for epoch in range(n_epochs):\n",
    "        if(epoch%100==0):\n",
    "            print(\"Epoch\", epoch, \"MSE =\", mse.eval())\n",
    "            save_path = saver.save(sess,'/tmp/my_model.ckpt')\n",
    "        sess.run(training_op)\n",
    "    best_theta = theta.eval()\n",
    "    save_path = saver.save(sess,\"/tmp/my_model_final.ckpt\")"
   ]
  },
  {
   "cell_type": "code",
   "execution_count": 82,
   "id": "da580730",
   "metadata": {},
   "outputs": [
    {
     "name": "stdout",
     "output_type": "stream",
     "text": [
      "INFO:tensorflow:Restoring parameters from /tmp/my_model_final.ckpt\n"
     ]
    },
    {
     "name": "stderr",
     "output_type": "stream",
     "text": [
      "INFO:tensorflow:Restoring parameters from /tmp/my_model_final.ckpt\n"
     ]
    }
   ],
   "source": [
    "with tf.compat.v1.Session() as sess:\n",
    "    saver.restore(sess,\"/tmp/my_model_final.ckpt\")\n",
    "    best_theta_restored = theta.eval()"
   ]
  },
  {
   "cell_type": "code",
   "execution_count": 84,
   "id": "85868620",
   "metadata": {},
   "outputs": [],
   "source": [
    "saver = tf.compat.v1.train.Saver({\"weights\":theta})"
   ]
  },
  {
   "cell_type": "code",
   "execution_count": 85,
   "id": "e624690d",
   "metadata": {},
   "outputs": [],
   "source": [
    "saver = tf.compat.v1.train.import_meta_graph(\"/tmp/my_model_final.ckpt.meta\")"
   ]
  },
  {
   "cell_type": "code",
   "execution_count": 88,
   "id": "86bb1c17",
   "metadata": {},
   "outputs": [],
   "source": [
    "theta = tf.compat.v1.get_default_graph().get_tensor_by_name(\"theta:0\") "
   ]
  },
  {
   "cell_type": "code",
   "execution_count": 89,
   "id": "b72d61df",
   "metadata": {},
   "outputs": [
    {
     "name": "stdout",
     "output_type": "stream",
     "text": [
      "INFO:tensorflow:Restoring parameters from /tmp/my_model_final.ckpt\n"
     ]
    },
    {
     "name": "stderr",
     "output_type": "stream",
     "text": [
      "INFO:tensorflow:Restoring parameters from /tmp/my_model_final.ckpt\n"
     ]
    }
   ],
   "source": [
    "with tf.compat.v1.Session() as sess:\n",
    "    saver.restore(sess, \"/tmp/my_model_final.ckpt\")  # this restores the graph's state\n",
    "    best_theta_restored = theta.eval() "
   ]
  },
  {
   "cell_type": "markdown",
   "id": "23fcbb8c",
   "metadata": {},
   "source": [
    "## Visualizing the graph"
   ]
  },
  {
   "cell_type": "code",
   "execution_count": 90,
   "id": "83910f07",
   "metadata": {},
   "outputs": [],
   "source": [
    "from datetime import datetime"
   ]
  },
  {
   "cell_type": "code",
   "execution_count": 91,
   "id": "d93f067a",
   "metadata": {},
   "outputs": [],
   "source": [
    "now = datetime.utcnow().strftime(\"%Y%m%d%H%M%S\")"
   ]
  },
  {
   "cell_type": "code",
   "execution_count": 93,
   "id": "221663a2",
   "metadata": {},
   "outputs": [],
   "source": [
    "root_logdir = \"tf_logs\""
   ]
  },
  {
   "cell_type": "code",
   "execution_count": 94,
   "id": "b8f8b810",
   "metadata": {},
   "outputs": [],
   "source": [
    "logdir = \"{}/run-{}\".format(root_logdir,now)"
   ]
  },
  {
   "cell_type": "code",
   "execution_count": 95,
   "id": "8f539387",
   "metadata": {},
   "outputs": [
    {
     "name": "stdout",
     "output_type": "stream",
     "text": [
      "ERROR! Session/line number was not unique in database. History logging moved to new session 23\n"
     ]
    }
   ],
   "source": []
  },
  {
   "cell_type": "code",
   "execution_count": 99,
   "id": "26bf4431",
   "metadata": {},
   "outputs": [
    {
     "name": "stdout",
     "output_type": "stream",
     "text": [
      "ERROR! Session/line number was not unique in database. History logging moved to new session 26\n"
     ]
    }
   ],
   "source": [
    "n_epochs = 1000\n",
    "batch_size = 100\n",
    "n_batches = int(np.ceil(m / batch_size))\n",
    "\n",
    "\n",
    "X = tf.compat.v1.placeholder(tf.float32, shape=(None, n + 1), name=\"X\")\n",
    "y = tf.compat.v1.placeholder(tf.float32, shape=(None, 1), name=\"y\")\n",
    "theta = tf.compat.v1.Variable(tf.compat.v1.random_uniform([n+1,1],-1.0,1.0),name=\"theta\")\n",
    "y_pred = tf.matmul(X,theta, name=\"predictions\")\n",
    "error = y_pred - y\n",
    "mse = tf.reduce_mean(tf.square(error), name=\"mse\")\n",
    "optimizer = tf.compat.v1.train.GradientDescentOptimizer(learning_rate=learning_rate)\n",
    "training_op = optimizer.minimize(mse)\n",
    "\n",
    "init = tf.compat.v1.global_variables_initializer()"
   ]
  },
  {
   "cell_type": "code",
   "execution_count": 100,
   "id": "22a9ee20",
   "metadata": {},
   "outputs": [],
   "source": [
    "mse_summary = tf.compat.v1.summary.scalar('MSE',mse)\n",
    "file_writer = tf.compat.v1.summary.FileWriter(logdir,tf.compat.v1.get_default_graph())"
   ]
  },
  {
   "cell_type": "code",
   "execution_count": 101,
   "id": "25635c40",
   "metadata": {},
   "outputs": [],
   "source": [
    "with tf.compat.v1.Session() as sess:\n",
    "    sess.run(init)\n",
    "    for epoch in range(n_epochs):\n",
    "        for batch_index in range(n_batches):\n",
    "            X_batch, y_batch = fetch_batch(epoch,batch_index,batch_size)\n",
    "            if batch_index%10 == 0:\n",
    "                summary_str = mse_summary.eval(feed_dict={X: X_batch, y: y_batch})\n",
    "                step = epoch * n_batches + batch_index\n",
    "                file_writer.add_summary(summary_str, step)\n",
    "            sess.run(training_op, feed_dict={X:X_batch, y:y_batch})\n",
    "    best_theta = theta.eval()"
   ]
  },
  {
   "cell_type": "code",
   "execution_count": 102,
   "id": "34ce76a2",
   "metadata": {},
   "outputs": [],
   "source": [
    "file_writer.close()"
   ]
  },
  {
   "cell_type": "code",
   "execution_count": null,
   "id": "6a2312d8",
   "metadata": {},
   "outputs": [],
   "source": []
  }
 ],
 "metadata": {
  "kernelspec": {
   "display_name": "tf2_env",
   "language": "python",
   "name": "tf2_env"
  },
  "language_info": {
   "codemirror_mode": {
    "name": "ipython",
    "version": 3
   },
   "file_extension": ".py",
   "mimetype": "text/x-python",
   "name": "python",
   "nbconvert_exporter": "python",
   "pygments_lexer": "ipython3",
   "version": "3.7.9"
  }
 },
 "nbformat": 4,
 "nbformat_minor": 5
}
